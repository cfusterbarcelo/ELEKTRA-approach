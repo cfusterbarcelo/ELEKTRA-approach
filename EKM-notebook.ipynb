{
 "cells": [
  {
   "cell_type": "markdown",
   "metadata": {},
   "source": [
    "# ELEKTRA: ELEKTRokardiomatrix Application to biometric identification with Convolutional Neural Networks\n",
    "\n",
    "This notebook shows an approach of how Elektrokardiomatrix (EKM) are built for ELEKTRA research. All steps from processing the database until obtaining the EKM images are going to be shown."
   ]
  },
  {
   "cell_type": "code",
   "execution_count": 119,
   "metadata": {},
   "outputs": [],
   "source": [
    "# Imports\n",
    "import numpy as np\n",
    "import matplotlib.pyplot as plt\n",
    "import biosignalsnotebooks as bsnb\n",
    "import wfdb\n",
    "from scipy.signal import detrend\n",
    "import seaborn as sns"
   ]
  },
  {
   "cell_type": "markdown",
   "metadata": {},
   "source": [
    "#### METHODS AND UTILITIES\n",
    "\n",
    "These are the main methods used to procvess the EKG and finally construct the EKM. These methods are going to be used along all the project in different steps of the creation of the EKM."
   ]
  },
  {
   "cell_type": "code",
   "execution_count": 120,
   "metadata": {},
   "outputs": [],
   "source": [
    "# METHODS AND UTILITITES\n",
    "\n",
    "# How the EKM is built\n",
    "def electrocardiomatrix(distance, r_peaks, filtered_ecg, init_window, peaks_window):\n",
    "    init_seg = int(0.2 * distance)\n",
    "    fin_seg = int(1.5 * distance)\n",
    "    all_segments = []\n",
    "    for peak in r_peaks[init_window:init_window + peaks_window]:\n",
    "        if peak - init_seg < 0:\n",
    "            segment = filtered_ecg[0:peak + fin_seg]\n",
    "        else:\n",
    "            segment = filtered_ecg[peak - init_seg:peak + fin_seg]\n",
    "        all_segments.append(segment[:,np.newaxis])\n",
    "    if all_segments[0].shape[0] < all_segments[1].shape[0]:\n",
    "        zeros = np.zeros(int(all_segments[1].shape[0])-int(all_segments[0].shape[0]))[:, np.newaxis]\n",
    "        new_segment = np.concatenate((zeros, all_segments[0]))\n",
    "        all_segments[0] = new_segment\n",
    "    try:\n",
    "      ecm = np.concatenate(all_segments, 1)\n",
    "    except ValueError:\n",
    "      return None\n",
    "    return ecm.T\n",
    "    \n",
    "# Normalizing method\n",
    "def normalize(signal):\n",
    "    a, b = -1, 1\n",
    "    c = b - a\n",
    "    aux = (signal - np.min(signal)) / (np.max(signal) - np.min(signal))\n",
    "    norm_ecg = c * aux + a\n",
    "    return norm_ecg\n",
    "\n",
    "# Filtering the EKG signal and obtaining its R-peaks with biosignalsnotebook\n",
    "def process_ecg(unfiltered_ecg, fs):\n",
    "    # Step 1 of Pan-Tompkins Algorithm - ECG Filtering (Bandpass between 5 and 15 Hz)\n",
    "    filtered_signal = bsnb.detect._ecg_band_pass_filter(unfiltered_ecg, fs)\n",
    "    # Step 2 of Pan-Tompkins Algorithm - ECG Differentiation\n",
    "    differentiated_signal = np.diff(filtered_signal)\n",
    "    # Step 3 of Pan-Tompkins Algorithm - ECG Rectification\n",
    "    squared_signal = differentiated_signal * differentiated_signal\n",
    "    # Step 4 of Pan-Tompkins Algorithm - ECG Integration ( Moving window integration )\n",
    "    nbr_sampls_int_wind = int(0.080 * fs)\n",
    "    integrated_signal = np.zeros_like(squared_signal)\n",
    "    cumulative_sum = squared_signal.cumsum()\n",
    "    integrated_signal[nbr_sampls_int_wind:] = (cumulative_sum[nbr_sampls_int_wind:] - cumulative_sum[\n",
    "                                                                                      :-nbr_sampls_int_wind]) / nbr_sampls_int_wind\n",
    "    integrated_signal[:nbr_sampls_int_wind] = cumulative_sum[:nbr_sampls_int_wind] / np.arange(1, nbr_sampls_int_wind + 1)\n",
    "    # Initialisation of the R peak detection algorithm\n",
    "    rr_buffer, signal_peak_1, noise_peak_1, threshold = bsnb.detect._buffer_ini(integrated_signal, fs)\n",
    "    # Detection of possible and probable R peaks\n",
    "    probable_peaks, possible_peaks = bsnb.detect._detects_peaks(integrated_signal, fs)\n",
    "    # Identification of definitive R peaks\n",
    "    definitive_peaks = bsnb.detect._checkup(probable_peaks, integrated_signal, fs, rr_buffer, signal_peak_1,\n",
    "                                            noise_peak_1, threshold)\n",
    "    # Conversion to integer type.\n",
    "    definitive_peaks = np.array(list(map(int, definitive_peaks)))\n",
    "    # Correcting step\n",
    "    map_integers = definitive_peaks - 40 * (fs / 1000)\n",
    "    definitive_peaks_reph = np.array(list(map(int, map_integers)))\n",
    "    return definitive_peaks_reph, filtered_signal\n",
    "\n",
    "# Calculates the mean distance between all peaks for each user\n",
    "def peak_distance(r_peaks):\n",
    "    dist = []\n",
    "    for i in range(len(r_peaks)):\n",
    "        if r_peaks[i] == r_peaks[-1]:\n",
    "            break\n",
    "        distance = r_peaks[i + 1] - r_peaks[i]\n",
    "        if i == 0:\n",
    "            dist.append(distance)\n",
    "            continue\n",
    "        if distance > np.mean(dist) + np.std(dist) * 2:\n",
    "            continue\n",
    "        else:\n",
    "            dist.append(distance)\n",
    "    return np.mean(dist)\n",
    "\n",
    "def save_ecm(norm_ecm, train_filled, test_filled, train_ecms, test_ecms, path_test, path_train, key, i, f, j):\n",
    "    a = np.random.uniform(0, 1)\n",
    "    if a <= 0.2 or train_filled:\n",
    "        plt.savefig(path_test + '\\\\' + '5bpf-ekm-test-' + key + '-' + str(i))\n",
    "        j += 1\n",
    "        if j > test_ecms:\n",
    "            test_filled = True\n",
    "\n",
    "    elif a > 0.2 or test_filled:\n",
    "        plt.savefig(path_train + '\\\\' +'5bpf-ekm-train-' + key + '-' + str(i))\n",
    "        f += 1\n",
    "        if f >= train_ecms:\n",
    "            train_filled = True\n",
    "    plt.close()\n",
    "    plt.close('all')\n",
    "    return j,f "
   ]
  },
  {
   "cell_type": "markdown",
   "metadata": {},
   "source": [
    "## FIRST PHASE: Obtain the filtered signal and its peaks\n",
    "\n",
    "In this first phase of the code we process the database to obtain the filtered ECG and a list of its peaks for each user. As we are only showing an approach, only one user from the (MIT-BIH Normal Sinus Rhythm Database (NSRDB))[https://physionet.org/content/nsrdb/1.0.0/] will be processed. The signal is filtered with the Pan and Tompkins algorithm from the (Biosignalsnotebook Library)[https://pypi.org/project/biosignalsnotebooks/] for python."
   ]
  },
  {
   "cell_type": "code",
   "execution_count": 121,
   "metadata": {},
   "outputs": [],
   "source": [
    "fs = 128\n",
    "dat_file = '16795\\\\16795.dat'\n",
    "ddbb_record = dat_file.replace(\".dat\", \"\")\n",
    "sig, fields = wfdb.rdsamp(ddbb_record)\n",
    "unfiltered_ecg = sig[:, 0]\n",
    "peaks, filtered_ecg = process_ecg(unfiltered_ecg, fs)"
   ]
  },
  {
   "cell_type": "code",
   "execution_count": 122,
   "metadata": {},
   "outputs": [
    {
     "data": {
      "image/png": "[encoded data removed]",
      "text/plain": [
       "<Figure size 432x288 with 1 Axes>"
      ]
     },
     "metadata": {
      "needs_background": "light"
     },
     "output_type": "display_data"
    },
    {
     "data": {
      "text/plain": [
       "96814"
      ]
     },
     "execution_count": 122,
     "metadata": {},
     "output_type": "execute_result"
    }
   ],
   "source": [
    "# Code to show an ECG signal with its peaks from a to b\n",
    "a = 15000\n",
    "b = 20000\n",
    "peaks_show = [x for x in peaks if (x>=a and x<=b)]\n",
    "plt.figure()\n",
    "plt.plot(range(a,b), filtered_ecg[a:b])\n",
    "plt.plot(peaks_show, filtered_ecg[peaks_show], 'r*')\n",
    "plt.show()\n",
    "\n",
    "len(peaks)"
   ]
  },
  {
   "cell_type": "markdown",
   "metadata": {},
   "source": [
    "## SECOND PHASE: Obtaining the EKM"
   ]
  },
  {
   "cell_type": "code",
   "execution_count": 123,
   "metadata": {},
   "outputs": [],
   "source": [
    "# Number of peaks to be taken (from 0 to 6)\n",
    "key = '16795'\n",
    "train_path = 'EKM\\\\16795\\\\Train'\n",
    "test_path = 'EKM\\\\16795\\\\Test'\n",
    "bpf = 5\n",
    "peaks_window = bpf-1\n",
    "data_obtained = []\n",
    "distances = []\n",
    "negative = True\n",
    "j, f, i, init_window = 0, 0, 0, 0\n",
    "total_ecms = 20\n",
    "test_ecms = int(0.2 * total_ecms)\n",
    "train_ecms = int(0.8 * total_ecms)\n",
    "train_filled, test_filled = False, False"
   ]
  },
  {
   "cell_type": "code",
   "execution_count": 124,
   "metadata": {},
   "outputs": [
    {
     "name": "stdout",
     "output_type": "stream",
     "text": [
      "DETREND applied\n",
      "NORMALIZATION applied\n",
      "Distance calculated\n"
     ]
    }
   ],
   "source": [
    "detrend_signal = detrend(filtered_ecg)\n",
    "print('DETREND applied')\n",
    "norm_ecg = normalize(detrend_signal)\n",
    "print('NORMALIZATION applied')\n",
    "# The distance calculation, may take a while\n",
    "distance = peak_distance(peaks)\n",
    "print('Distance calculated')\n",
    "\n",
    "while((j+f)<total_ecms):\n",
    "    if (init_window >= len(peaks)) or (init_window >= len(peaks)-1): break\n",
    "    ecm = electrocardiomatrix(distance, peaks, norm_ecg, init_window, peaks_window)\n",
    "    if ecm is None: break\n",
    "    distance = int(distance)\n",
    "    norm_ecm = normalize(ecm)\n",
    "    sns.heatmap(norm_ecm, xticklabels=False, yticklabels=False)\n",
    "    j, f = save_ecm(norm_ecm, train_filled, test_filled, train_ecms, test_ecms, test_path, train_path, key, i, f, j)\n",
    "    init_window += bpf\n",
    "    i += 1"
   ]
  }
 ],
 "metadata": {
  "interpreter": {
   "hash": "f52d70ed7d79f2f7cc4e72e0769097e762eaec646491f65e9769d3f13644e5af"
  },
  "kernelspec": {
   "display_name": "Python 3.9.4 64-bit ('Hospital': conda)",
   "language": "python",
   "name": "python3"
  },
  "language_info": {
   "codemirror_mode": {
    "name": "ipython",
    "version": 3
   },
   "file_extension": ".py",
   "mimetype": "text/x-python",
   "name": "python",
   "nbconvert_exporter": "python",
   "pygments_lexer": "ipython3",
   "version": "3.9.7"
  },
  "orig_nbformat": 4
 },
 "nbformat": 4,
 "nbformat_minor": 2
}
